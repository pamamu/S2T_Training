{
 "cells": [
  {
   "cell_type": "code",
   "execution_count": 9,
   "metadata": {
    "collapsed": true
   },
   "outputs": [],
   "source": [
    "import json\n",
    "import subprocess\n",
    "import os\n"
   ]
  },
  {
   "cell_type": "code",
   "execution_count": 5,
   "metadata": {},
   "outputs": [],
   "source": [
    "info_files = [\n",
    "    '/Users/pablomaciasmunoz/Dev/WS_TFG/S2T_Training/resources/audio/tmp/info30s.txt',\n",
    "    '/Users/pablomaciasmunoz/Dev/WS_TFG/S2T_Training/resources/audio/tmp/info60s.txt',\n",
    "    '/Users/pablomaciasmunoz/Dev/WS_TFG/S2T_Training/resources/audio/tmp/info5m.txt',\n",
    "    '/Users/pablomaciasmunoz/Dev/WS_TFG/S2T_Training/resources/audio/tmp/info10m.txt',\n",
    "    '/Users/pablomaciasmunoz/Dev/WS_TFG/S2T_Training/resources/audio/tmp/info15m.txt',\n",
    "    '/Users/pablomaciasmunoz/Dev/WS_TFG/S2T_Training/resources/audio/tmp/info30m.txt',\n",
    "    '/Users/pablomaciasmunoz/Dev/WS_TFG/S2T_Training/resources/audio/tmp/info45m.txt'\n",
    "]"
   ]
  },
  {
   "cell_type": "code",
   "execution_count": 13,
   "metadata": {},
   "outputs": [],
   "source": [
    "srilm_path = '/Users/pablomaciasmunoz/Dev/WS_TFG/S2T_Training/files/srilm/bin/macosx'\n",
    "test_path = '/Users/pablomaciasmunoz/Dev/WS_TFG/S2T_Training/resources/audio/tmp/test.txt'\n",
    "command = os.path.join(srilm_path, 'ngram-count')\n",
    "command2 = os.path.join(srilm_path, 'ngram')\n",
    "order = 3"
   ]
  },
  {
   "cell_type": "heading",
   "metadata": {},
   "level": 1,
   "source": [
    "NORMAL MODE"
   ]
  },
  {
   "cell_type": "code",
   "execution_count": 17,
   "metadata": {},
   "outputs": [
    {
     "name": "stdout",
     "output_type": "stream",
     "text": [
      "/Users/pablomaciasmunoz/Dev/WS_TFG/S2T_Training/files/srilm/bin/macosx/ngram -lm /Users/pablomaciasmunoz/Dev/WS_TFG/S2T_Training/resources/audio/tmp/info30s.lm -ppl /Users/pablomaciasmunoz/Dev/WS_TFG/S2T_Training/resources/audio/tmp/test.txt -debug 2 > /Users/pablomaciasmunoz/Dev/WS_TFG/S2T_Training/resources/audio/tmp/info30s.ppl\n/Users/pablomaciasmunoz/Dev/WS_TFG/S2T_Training/files/srilm/bin/macosx/ngram -lm /Users/pablomaciasmunoz/Dev/WS_TFG/S2T_Training/resources/audio/tmp/info60s.lm -ppl /Users/pablomaciasmunoz/Dev/WS_TFG/S2T_Training/resources/audio/tmp/test.txt -debug 2 > /Users/pablomaciasmunoz/Dev/WS_TFG/S2T_Training/resources/audio/tmp/info60s.ppl\n/Users/pablomaciasmunoz/Dev/WS_TFG/S2T_Training/files/srilm/bin/macosx/ngram -lm /Users/pablomaciasmunoz/Dev/WS_TFG/S2T_Training/resources/audio/tmp/info5m.lm -ppl /Users/pablomaciasmunoz/Dev/WS_TFG/S2T_Training/resources/audio/tmp/test.txt -debug 2 > /Users/pablomaciasmunoz/Dev/WS_TFG/S2T_Training/resources/audio/tmp/info5m.ppl\n/Users/pablomaciasmunoz/Dev/WS_TFG/S2T_Training/files/srilm/bin/macosx/ngram -lm /Users/pablomaciasmunoz/Dev/WS_TFG/S2T_Training/resources/audio/tmp/info10m.lm -ppl /Users/pablomaciasmunoz/Dev/WS_TFG/S2T_Training/resources/audio/tmp/test.txt -debug 2 > /Users/pablomaciasmunoz/Dev/WS_TFG/S2T_Training/resources/audio/tmp/info10m.ppl\n"
     ]
    },
    {
     "name": "stdout",
     "output_type": "stream",
     "text": [
      "/Users/pablomaciasmunoz/Dev/WS_TFG/S2T_Training/files/srilm/bin/macosx/ngram -lm /Users/pablomaciasmunoz/Dev/WS_TFG/S2T_Training/resources/audio/tmp/info15m.lm -ppl /Users/pablomaciasmunoz/Dev/WS_TFG/S2T_Training/resources/audio/tmp/test.txt -debug 2 > /Users/pablomaciasmunoz/Dev/WS_TFG/S2T_Training/resources/audio/tmp/info15m.ppl\n/Users/pablomaciasmunoz/Dev/WS_TFG/S2T_Training/files/srilm/bin/macosx/ngram -lm /Users/pablomaciasmunoz/Dev/WS_TFG/S2T_Training/resources/audio/tmp/info30m.lm -ppl /Users/pablomaciasmunoz/Dev/WS_TFG/S2T_Training/resources/audio/tmp/test.txt -debug 2 > /Users/pablomaciasmunoz/Dev/WS_TFG/S2T_Training/resources/audio/tmp/info30m.ppl\n/Users/pablomaciasmunoz/Dev/WS_TFG/S2T_Training/files/srilm/bin/macosx/ngram -lm /Users/pablomaciasmunoz/Dev/WS_TFG/S2T_Training/resources/audio/tmp/info45m.lm -ppl /Users/pablomaciasmunoz/Dev/WS_TFG/S2T_Training/resources/audio/tmp/test.txt -debug 2 > /Users/pablomaciasmunoz/Dev/WS_TFG/S2T_Training/resources/audio/tmp/info45m.ppl\n"
     ]
    }
   ],
   "source": [
    "for text_file in info_files:\n",
    "    model_file = text_file.split('.')[0] + '.lm'\n",
    "    test_file = text_file.split('.')[0] + '.ppl'\n",
    "    for i in reversed(range(0, order)):\n",
    "        script = [str(command), '-text', str(text_file), '-order', str(i+1), '-lm', str(model_file), '-kndiscount']\n",
    "        p = subprocess.Popen(script, stdout=subprocess.PIPE, stderr=subprocess.PIPE)\n",
    "        a = p.wait()\n",
    "        if a == 0:\n",
    "            # print(' '.join(script), end='\\n\\n')\n",
    "            f = open(test_file, 'w')\n",
    "            script = [str(command2), '-lm', str(model_file), '-ppl', str(test_path), '-debug', str(2), '>', str(test_file)]\n",
    "            # print(' '.join(script))\n",
    "            p = subprocess.Popen(script, stdout=f, stderr=subprocess.PIPE)\n",
    "            a = p.wait()\n",
    "            break\n"
   ]
  },
  {
   "cell_type": "heading",
   "metadata": {},
   "level": 1,
   "source": [
    "UNKNOWED MODE"
   ]
  },
  {
   "cell_type": "code",
   "execution_count": 18,
   "metadata": {},
   "outputs": [],
   "source": [
    "for text_file in info_files:\n",
    "    model_file = text_file.split('.')[0] + '_unk.lm'\n",
    "    test_file = text_file.split('.')[0] + '_unk.ppl'\n",
    "    for i in reversed(range(0, order)):\n",
    "        script = [str(command), '-text', str(text_file), '-order', str(i + 1), '-lm', str(model_file), '-kndiscount',\n",
    "                  '-unk']\n",
    "        p = subprocess.Popen(script, stdout=subprocess.PIPE, stderr=subprocess.PIPE)\n",
    "        a = p.wait()\n",
    "        if a == 0:\n",
    "            # print(' '.join(script), end='\\n\\n')\n",
    "            f = open(test_file, 'w')\n",
    "            script = [str(command2), '-lm', str(model_file), '-ppl', str(test_path), '-debug', str(2), '-unk', '>',\n",
    "                      str(test_file)]\n",
    "            # print(' '.join(script))\n",
    "            p = subprocess.Popen(script, stdout=f, stderr=subprocess.PIPE)\n",
    "            a = p.wait()\n",
    "            break\n"
   ]
  },
  {
   "cell_type": "code",
   "execution_count": null,
   "metadata": {},
   "outputs": [],
   "source": []
  }
 ],
 "metadata": {
  "kernelspec": {
   "display_name": "Python 2",
   "language": "python",
   "name": "python2"
  },
  "language_info": {
   "codemirror_mode": {
    "name": "ipython",
    "version": 2
   },
   "file_extension": ".py",
   "mimetype": "text/x-python",
   "name": "python",
   "nbconvert_exporter": "python",
   "pygments_lexer": "ipython2",
   "version": "2.7.6"
  }
 },
 "nbformat": 4,
 "nbformat_minor": 0
}
